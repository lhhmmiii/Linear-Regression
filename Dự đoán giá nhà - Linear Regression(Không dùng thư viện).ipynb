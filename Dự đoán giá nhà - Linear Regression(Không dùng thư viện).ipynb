{
 "cells": [
  {
   "cell_type": "markdown",
   "id": "13e84627",
   "metadata": {},
   "source": [
    "# Linear Regression"
   ]
  },
  {
   "cell_type": "markdown",
   "id": "4fa2c0ff",
   "metadata": {},
   "source": [
    "## Import thư viện"
   ]
  },
  {
   "cell_type": "code",
   "execution_count": 161,
   "id": "fd3399b5",
   "metadata": {},
   "outputs": [],
   "source": [
    "import numpy as np\n",
    "import pandas as pd\n",
    "import matplotlib.pyplot as plt\n",
    "import seaborn as sns"
   ]
  },
  {
   "cell_type": "markdown",
   "id": "3f6c5b39",
   "metadata": {},
   "source": [
    "## Input Data"
   ]
  },
  {
   "cell_type": "code",
   "execution_count": 162,
   "id": "eb2e9d8f",
   "metadata": {},
   "outputs": [
    {
     "data": {
      "text/html": [
       "<div>\n",
       "<style scoped>\n",
       "    .dataframe tbody tr th:only-of-type {\n",
       "        vertical-align: middle;\n",
       "    }\n",
       "\n",
       "    .dataframe tbody tr th {\n",
       "        vertical-align: top;\n",
       "    }\n",
       "\n",
       "    .dataframe thead th {\n",
       "        text-align: right;\n",
       "    }\n",
       "</style>\n",
       "<table border=\"1\" class=\"dataframe\">\n",
       "  <thead>\n",
       "    <tr style=\"text-align: right;\">\n",
       "      <th></th>\n",
       "      <th>Avg. Area Income</th>\n",
       "      <th>Avg. Area House Age</th>\n",
       "      <th>Avg. Area Number of Rooms</th>\n",
       "      <th>Avg. Area Number of Bedrooms</th>\n",
       "      <th>Area Population</th>\n",
       "      <th>Price</th>\n",
       "    </tr>\n",
       "  </thead>\n",
       "  <tbody>\n",
       "    <tr>\n",
       "      <th>0</th>\n",
       "      <td>79545.458574</td>\n",
       "      <td>5.682861</td>\n",
       "      <td>7.009188</td>\n",
       "      <td>4.09</td>\n",
       "      <td>23086.800503</td>\n",
       "      <td>1.059034e+06</td>\n",
       "    </tr>\n",
       "    <tr>\n",
       "      <th>1</th>\n",
       "      <td>79248.642455</td>\n",
       "      <td>6.002900</td>\n",
       "      <td>6.730821</td>\n",
       "      <td>3.09</td>\n",
       "      <td>40173.072174</td>\n",
       "      <td>1.505891e+06</td>\n",
       "    </tr>\n",
       "    <tr>\n",
       "      <th>2</th>\n",
       "      <td>61287.067179</td>\n",
       "      <td>5.865890</td>\n",
       "      <td>8.512727</td>\n",
       "      <td>5.13</td>\n",
       "      <td>36882.159400</td>\n",
       "      <td>1.058988e+06</td>\n",
       "    </tr>\n",
       "    <tr>\n",
       "      <th>3</th>\n",
       "      <td>63345.240046</td>\n",
       "      <td>7.188236</td>\n",
       "      <td>5.586729</td>\n",
       "      <td>3.26</td>\n",
       "      <td>34310.242831</td>\n",
       "      <td>1.260617e+06</td>\n",
       "    </tr>\n",
       "    <tr>\n",
       "      <th>4</th>\n",
       "      <td>59982.197226</td>\n",
       "      <td>5.040555</td>\n",
       "      <td>7.839388</td>\n",
       "      <td>4.23</td>\n",
       "      <td>26354.109472</td>\n",
       "      <td>6.309435e+05</td>\n",
       "    </tr>\n",
       "  </tbody>\n",
       "</table>\n",
       "</div>"
      ],
      "text/plain": [
       "   Avg. Area Income  Avg. Area House Age  Avg. Area Number of Rooms  \\\n",
       "0      79545.458574             5.682861                   7.009188   \n",
       "1      79248.642455             6.002900                   6.730821   \n",
       "2      61287.067179             5.865890                   8.512727   \n",
       "3      63345.240046             7.188236                   5.586729   \n",
       "4      59982.197226             5.040555                   7.839388   \n",
       "\n",
       "   Avg. Area Number of Bedrooms  Area Population         Price  \n",
       "0                          4.09     23086.800503  1.059034e+06  \n",
       "1                          3.09     40173.072174  1.505891e+06  \n",
       "2                          5.13     36882.159400  1.058988e+06  \n",
       "3                          3.26     34310.242831  1.260617e+06  \n",
       "4                          4.23     26354.109472  6.309435e+05  "
      ]
     },
     "execution_count": 162,
     "metadata": {},
     "output_type": "execute_result"
    }
   ],
   "source": [
    "df=pd.read_csv(\"USA_Housing.csv\")\n",
    "df=df.drop('Address',axis=1)\n",
    "df.head()"
   ]
  },
  {
   "cell_type": "markdown",
   "id": "db8b3dcd",
   "metadata": {},
   "source": [
    "**Giải thích:**\n",
    "- Avg. Area Income: Thu nhập trung bình trong khu vực. \n",
    "- Avg. Area House Age: Độ tuổi trung bình của các ngôi nhà trong khu vực.\n",
    "- Avg. Area Number of Rooms: Số phòng trung bình của các nhà trong khu vực.\n",
    "- Avg. Area Number of Bedrooms: Số giường trung bình của các nhà trong khu vực.\n",
    "- Area Population: Dân số trong khu vực."
   ]
  },
  {
   "cell_type": "code",
   "execution_count": 163,
   "id": "ff0f87d2",
   "metadata": {},
   "outputs": [],
   "source": [
    "X=df.iloc[:500,:-1]\n",
    "y=df.iloc[:500,-1]"
   ]
  },
  {
   "cell_type": "code",
   "execution_count": 164,
   "id": "5c1a2719",
   "metadata": {},
   "outputs": [
    {
     "data": {
      "text/plain": [
       "(500, 5)"
      ]
     },
     "execution_count": 164,
     "metadata": {},
     "output_type": "execute_result"
    }
   ],
   "source": [
    "X.shape"
   ]
  },
  {
   "cell_type": "markdown",
   "id": "769e57b3",
   "metadata": {},
   "source": [
    "## Chia dữ liệu thành 2 tập train và tập test"
   ]
  },
  {
   "cell_type": "code",
   "execution_count": 165,
   "id": "ec061a93",
   "metadata": {},
   "outputs": [],
   "source": [
    "from sklearn.model_selection import train_test_split"
   ]
  },
  {
   "cell_type": "code",
   "execution_count": 166,
   "id": "9529cf2b",
   "metadata": {},
   "outputs": [],
   "source": [
    "X_train, X_test, y_train, y_test = train_test_split(X, y, test_size=0.2, random_state=101)"
   ]
  },
  {
   "cell_type": "code",
   "execution_count": 167,
   "id": "ac85e542",
   "metadata": {},
   "outputs": [
    {
     "data": {
      "text/html": [
       "<div>\n",
       "<style scoped>\n",
       "    .dataframe tbody tr th:only-of-type {\n",
       "        vertical-align: middle;\n",
       "    }\n",
       "\n",
       "    .dataframe tbody tr th {\n",
       "        vertical-align: top;\n",
       "    }\n",
       "\n",
       "    .dataframe thead th {\n",
       "        text-align: right;\n",
       "    }\n",
       "</style>\n",
       "<table border=\"1\" class=\"dataframe\">\n",
       "  <thead>\n",
       "    <tr style=\"text-align: right;\">\n",
       "      <th></th>\n",
       "      <th>Avg. Area Income</th>\n",
       "      <th>Avg. Area House Age</th>\n",
       "      <th>Avg. Area Number of Rooms</th>\n",
       "      <th>Avg. Area Number of Bedrooms</th>\n",
       "      <th>Area Population</th>\n",
       "    </tr>\n",
       "  </thead>\n",
       "  <tbody>\n",
       "    <tr>\n",
       "      <th>161</th>\n",
       "      <td>63312.805675</td>\n",
       "      <td>6.139115</td>\n",
       "      <td>8.199615</td>\n",
       "      <td>4.41</td>\n",
       "      <td>43230.352158</td>\n",
       "    </tr>\n",
       "    <tr>\n",
       "      <th>72</th>\n",
       "      <td>57279.063576</td>\n",
       "      <td>5.118109</td>\n",
       "      <td>6.561520</td>\n",
       "      <td>3.17</td>\n",
       "      <td>44023.790685</td>\n",
       "    </tr>\n",
       "    <tr>\n",
       "      <th>246</th>\n",
       "      <td>65382.888323</td>\n",
       "      <td>5.396819</td>\n",
       "      <td>7.648386</td>\n",
       "      <td>6.08</td>\n",
       "      <td>41723.054741</td>\n",
       "    </tr>\n",
       "    <tr>\n",
       "      <th>230</th>\n",
       "      <td>75487.032599</td>\n",
       "      <td>6.453932</td>\n",
       "      <td>7.737096</td>\n",
       "      <td>4.02</td>\n",
       "      <td>41105.390630</td>\n",
       "    </tr>\n",
       "    <tr>\n",
       "      <th>391</th>\n",
       "      <td>67269.995543</td>\n",
       "      <td>6.325822</td>\n",
       "      <td>7.472850</td>\n",
       "      <td>6.39</td>\n",
       "      <td>41780.473692</td>\n",
       "    </tr>\n",
       "  </tbody>\n",
       "</table>\n",
       "</div>"
      ],
      "text/plain": [
       "     Avg. Area Income  Avg. Area House Age  Avg. Area Number of Rooms  \\\n",
       "161      63312.805675             6.139115                   8.199615   \n",
       "72       57279.063576             5.118109                   6.561520   \n",
       "246      65382.888323             5.396819                   7.648386   \n",
       "230      75487.032599             6.453932                   7.737096   \n",
       "391      67269.995543             6.325822                   7.472850   \n",
       "\n",
       "     Avg. Area Number of Bedrooms  Area Population  \n",
       "161                          4.41     43230.352158  \n",
       "72                           3.17     44023.790685  \n",
       "246                          6.08     41723.054741  \n",
       "230                          4.02     41105.390630  \n",
       "391                          6.39     41780.473692  "
      ]
     },
     "execution_count": 167,
     "metadata": {},
     "output_type": "execute_result"
    }
   ],
   "source": [
    "X_train.head()"
   ]
  },
  {
   "cell_type": "code",
   "execution_count": 168,
   "id": "1d0ff478",
   "metadata": {},
   "outputs": [],
   "source": [
    "y_train=y_train.values\n",
    "y_test=y_test.values"
   ]
  },
  {
   "cell_type": "code",
   "execution_count": 169,
   "id": "1067e922",
   "metadata": {},
   "outputs": [],
   "source": [
    "y_train=y_train/(1e+6)\n",
    "y_test=y_test/(1e+6)"
   ]
  },
  {
   "cell_type": "markdown",
   "id": "dcb2ac75",
   "metadata": {},
   "source": [
    "**Shape:**"
   ]
  },
  {
   "cell_type": "code",
   "execution_count": 170,
   "id": "e04f4a44",
   "metadata": {},
   "outputs": [
    {
     "data": {
      "text/plain": [
       "(400, 5)"
      ]
     },
     "execution_count": 170,
     "metadata": {},
     "output_type": "execute_result"
    }
   ],
   "source": [
    "X_train.shape"
   ]
  },
  {
   "cell_type": "code",
   "execution_count": 171,
   "id": "16ff07b7",
   "metadata": {},
   "outputs": [
    {
     "data": {
      "text/plain": [
       "(400, 5)"
      ]
     },
     "execution_count": 171,
     "metadata": {},
     "output_type": "execute_result"
    }
   ],
   "source": [
    "m=X_train.shape[0]\n",
    "n=X_train.shape[1]\n",
    "m,n"
   ]
  },
  {
   "cell_type": "markdown",
   "id": "c4fc82d1",
   "metadata": {},
   "source": [
    "X_train có 5 feature và 400 mẫu dữ liệu. Do đó m=400, n=5."
   ]
  },
  {
   "cell_type": "markdown",
   "id": "f9ee328a",
   "metadata": {},
   "source": [
    "## Feature Scaling"
   ]
  },
  {
   "cell_type": "markdown",
   "id": "a4ca2c00",
   "metadata": {},
   "source": [
    "**Cách 1:** Dùng thư viện(ta sẽ chuẩn hóa cho X_train)"
   ]
  },
  {
   "cell_type": "code",
   "execution_count": 172,
   "id": "02339961",
   "metadata": {},
   "outputs": [],
   "source": [
    "from sklearn import preprocessing"
   ]
  },
  {
   "cell_type": "code",
   "execution_count": 173,
   "id": "e27e2b84",
   "metadata": {},
   "outputs": [],
   "source": [
    "X_train_scaler = preprocessing.StandardScaler().fit_transform(X_train)"
   ]
  },
  {
   "cell_type": "code",
   "execution_count": 174,
   "id": "168eed1b",
   "metadata": {},
   "outputs": [
    {
     "data": {
      "text/plain": [
       "array([[-0.5056618 ,  0.05480916,  1.16068759,  0.31422091,  0.76963778],\n",
       "       [-1.1003971 , -0.97863251, -0.3964599 , -0.68535306,  0.85044028],\n",
       "       [-0.30161741, -0.69652774,  0.63669781,  1.66042134,  0.61613704],\n",
       "       ...,\n",
       "       [ 0.91578336, -0.46607379, -0.96081033, -0.63698657, -0.36644845],\n",
       "       [-1.75936202, -1.60779921,  0.46487141,  0.37870956, -0.1353348 ],\n",
       "       [ 0.93527476,  0.42179577, -0.31457446, -0.55637577, -1.27199243]])"
      ]
     },
     "execution_count": 174,
     "metadata": {},
     "output_type": "execute_result"
    }
   ],
   "source": [
    "X_train_scaler"
   ]
  },
  {
   "cell_type": "markdown",
   "id": "f91be3bd",
   "metadata": {},
   "source": [
    "**Cách 2:** Thực hiện feature scaling theo Z-score Nomarlization (ta sẽ chuẩn hóa cho X_test)<br>\n",
    "$$scaler_j^{(i)}=\\frac{x_j^{(i)}-\\mu_j}{\\sigma_j}$$"
   ]
  },
  {
   "cell_type": "code",
   "execution_count": 175,
   "id": "eaddc77a",
   "metadata": {},
   "outputs": [
    {
     "data": {
      "text/plain": [
       "(array([1.09700068e+04, 1.00113166e+00, 1.02388854e+00, 1.17901828e+00,\n",
       "        1.01810366e+04]),\n",
       " array([6.68055382e+04, 5.89965971e+00, 6.93851668e+00, 3.87830000e+00,\n",
       "        3.57952844e+04]))"
      ]
     },
     "execution_count": 175,
     "metadata": {},
     "output_type": "execute_result"
    }
   ],
   "source": [
    "sigma=np.zeros(n)\n",
    "mu=np.zeros(n)\n",
    "for i in range(n):\n",
    "    sigma[i]=np.std(X_test.iloc[:,i])\n",
    "    mu[i]=np.mean(X_test.iloc[:,i])\n",
    "sigma,mu"
   ]
  },
  {
   "cell_type": "code",
   "execution_count": 176,
   "id": "b43bf8e6",
   "metadata": {},
   "outputs": [],
   "source": [
    "m=len(X_test)\n",
    "X_test_scaler=np.zeros((m,n))\n",
    "for i in range(m):\n",
    "    for j in range(n):\n",
    "        X_test_scaler[i,j]=(X_test.iloc[i,j]-mu[j])/sigma[j]"
   ]
  },
  {
   "cell_type": "markdown",
   "id": "607e1a5e",
   "metadata": {},
   "source": [
    "## Triển khai mô hình:"
   ]
  },
  {
   "cell_type": "markdown",
   "id": "b0d1d25d",
   "metadata": {},
   "source": [
    "### Output của mô hình:"
   ]
  },
  {
   "cell_type": "code",
   "execution_count": 177,
   "id": "04d5e438",
   "metadata": {},
   "outputs": [],
   "source": [
    "def calculate_model_output(x,w,b):\n",
    "    m=len(x)\n",
    "    f_wb=np.zeros(m)\n",
    "    for i in range(m):\n",
    "        f_wb[i]=np.dot(w,x[i,:])+b\n",
    "    return f_wb"
   ]
  },
  {
   "cell_type": "markdown",
   "id": "b442d915",
   "metadata": {},
   "source": [
    "### Hàm chi phí:"
   ]
  },
  {
   "cell_type": "code",
   "execution_count": 178,
   "id": "50b80493",
   "metadata": {},
   "outputs": [],
   "source": [
    "def calculate_cost_fuction(x,y,w,b):\n",
    "    m=len(x)\n",
    "    J_wb=0\n",
    "    for i in range(m):\n",
    "        J_wb+=(calculate_model_output(x,w,b)[i]-y[i])**2\n",
    "    J_wb/=(2*m)\n",
    "    return J_wb"
   ]
  },
  {
   "cell_type": "markdown",
   "id": "7e33ac4d",
   "metadata": {},
   "source": [
    "### Triển khai gradient descent"
   ]
  },
  {
   "cell_type": "code",
   "execution_count": 200,
   "id": "bb3bec3f",
   "metadata": {},
   "outputs": [],
   "source": [
    "def gradient_descent(x,y,iterations=1000,learning_rate=0.0001,stopping_threshold = 1e-4):\n",
    "    m=x.shape[0]\n",
    "    n=x.shape[1]\n",
    "    dj_dw=np.zeros(n)\n",
    "    dj_db=0\n",
    "    current_weights=np.array([0.25,0.2,0.16,0.05,0.2])\n",
    "    current_bias=1.256\n",
    "    previous_cost=None\n",
    "    for i in range(iterations):\n",
    "        f_wb=calculate_model_output(x,current_weights,current_bias)\n",
    "        current_cost= calculate_cost_fuction(x,y,current_weights,current_bias)\n",
    "        if previous_cost and abs(current_cost-previous_cost)<=stopping_threshold:\n",
    "            break\n",
    "        previous_cost=current_cost\n",
    "        for j in range(n):\n",
    "            dj_dw[j]=np.sum((f_wb-y)*x[:,j])\n",
    "        dj_db=np.sum(f_wb-y)\n",
    "        current_weights-=learning_rate*dj_dw\n",
    "        current_bias-=learning_rate*dj_db\n",
    "        print(f\"Iteration {i+1}: Cost {current_cost}, Weight {current_weights}, Bias {current_bias}\")\n",
    "    return current_weights,current_bias"
   ]
  },
  {
   "cell_type": "code",
   "execution_count": 201,
   "id": "b76447a0",
   "metadata": {},
   "outputs": [
    {
     "name": "stdout",
     "output_type": "stream",
     "text": [
      "Iteration 1: Cost 0.010103559619242298, Weight [0.24889339 0.19866248 0.15778241 0.04734152 0.19806577], Bias 1.2554592937366331\n",
      "Iteration 2: Cost 0.009639895959266306, Weight [0.24782833 0.19738542 0.15570677 0.04483087 0.19619632], Bias 1.2549402157238008\n",
      "Iteration 3: Cost 0.009222247346125496, Weight [0.24680314 0.19616593 0.15376448 0.04245941 0.19438967], Bias 1.2544419008314818\n",
      "Iteration 4: Cost 0.00884582998887861, Weight [0.24581624 0.19500129 0.15194746 0.040219   0.1926439 ], Bias 1.2539635185348557\n",
      "Iteration 5: Cost 0.008506375004614508, Weight [0.24486608 0.19388889 0.15024809 0.03810199 0.19095713], Bias 1.2535042715300946\n",
      "Iteration 6: Cost 0.00820007160135542, Weight [0.24395121 0.19282628 0.14865924 0.03610118 0.18932752], Bias 1.2530633944055238\n",
      "Iteration 7: Cost 0.007923516638987984, Weight [0.24307023 0.1918111  0.14717416 0.03420981 0.18775329], Bias 1.2526401523659358\n",
      "Iteration 8: Cost 0.007673669843915958, Weight [0.2422218  0.19084113 0.14578656 0.0324215  0.18623269], Bias 1.2522338400079314\n",
      "Iteration 9: Cost 0.007447814036015719, Weight [0.24140465 0.18991425 0.14449047 0.03073027 0.18476402], Bias 1.2518437801442472\n",
      "Iteration 10: Cost 0.007243519799832055, Weight [0.24061755 0.18902845 0.14328032 0.02913049 0.18334563], Bias 1.2514693226751104\n",
      "Iteration 11: Cost 0.0070586140968722615, Weight [0.23985933 0.18818182 0.14215084 0.02761686 0.18197591], Bias 1.251109843504739\n",
      "Iteration 12: Cost 0.006891152373318145, Weight [0.23912887 0.18737254 0.1410971  0.02618439 0.18065328], Bias 1.2507647435011824\n",
      "Iteration 13: Cost 0.006739393768335984, Weight [0.23842509 0.18659888 0.14011445 0.0248284  0.17937624], Bias 1.250433447497768\n",
      "Iteration 14: Cost 0.0066017790731860634, Weight [0.23774697 0.18585919 0.13919854 0.02354448 0.17814329], Bias 1.2501154033344903\n",
      "Iteration 15: Cost 0.006476911131189394, Weight [0.23709351 0.18515192 0.13834524 0.02232848 0.17695299], Bias 1.2498100809377437\n",
      "Iteration 16: Cost 0.0063635374038930196, Weight [0.23646378 0.18447556 0.13755071 0.02117649 0.17580395], Bias 1.249516971436867\n",
      "Iteration 17: Cost 0.006260534460016183, Weight [0.23585686 0.18382872 0.13681131 0.02008485 0.17469481], Bias 1.2492355863160254\n"
     ]
    }
   ],
   "source": [
    "w,b=gradient_descent(X_train_scaler,y_train,iterations=100)"
   ]
  },
  {
   "cell_type": "markdown",
   "id": "432859e7",
   "metadata": {},
   "source": [
    "## Predicting Test Data"
   ]
  },
  {
   "cell_type": "code",
   "execution_count": 202,
   "id": "0c947990",
   "metadata": {},
   "outputs": [],
   "source": [
    "y_pred=calculate_model_output(X_test_scaler,w,b)"
   ]
  },
  {
   "cell_type": "code",
   "execution_count": 211,
   "id": "489aa455",
   "metadata": {},
   "outputs": [
    {
     "data": {
      "image/png": "[encoded data removed]",
      "text/plain": [
       "<Figure size 432x288 with 1 Axes>"
      ]
     },
     "metadata": {
      "needs_background": "light"
     },
     "output_type": "display_data"
    }
   ],
   "source": [
    "plt.scatter(y_test,y_test);"
   ]
  },
  {
   "cell_type": "markdown",
   "id": "0be084ca",
   "metadata": {},
   "source": [
    "Ta có thể dễ dàng nhìn thấy các điểm được dự toán và các điểm để test nó khá sát nhau."
   ]
  },
  {
   "cell_type": "markdown",
   "id": "6f94f30f",
   "metadata": {},
   "source": [
    "## Độ chính xác của mô hình"
   ]
  },
  {
   "cell_type": "code",
   "execution_count": 203,
   "id": "2daf1125",
   "metadata": {},
   "outputs": [
    {
     "data": {
      "text/plain": [
       "0.8955031999904332"
      ]
     },
     "execution_count": 203,
     "metadata": {},
     "output_type": "execute_result"
    }
   ],
   "source": [
    "from sklearn import metrics\n",
    "metrics.explained_variance_score(y_test, y_pred)"
   ]
  }
 ],
 "metadata": {
  "kernelspec": {
   "display_name": "Python 3 (ipykernel)",
   "language": "python",
   "name": "python3"
  },
  "language_info": {
   "codemirror_mode": {
    "name": "ipython",
    "version": 3
   },
   "file_extension": ".py",
   "mimetype": "text/x-python",
   "name": "python",
   "nbconvert_exporter": "python",
   "pygments_lexer": "ipython3",
   "version": "3.9.12"
  }
 },
 "nbformat": 4,
 "nbformat_minor": 5
}
